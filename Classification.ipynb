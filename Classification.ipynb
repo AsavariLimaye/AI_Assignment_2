{
 "cells": [
  {
   "cell_type": "code",
   "execution_count": 105,
   "metadata": {},
   "outputs": [],
   "source": [
    "import pickle\n",
    "import numpy as np\n",
    "import cv2\n",
    "from sklearn.model_selection import train_test_split\n",
    "from keras.models import Sequential\n",
    "from keras.layers import Dense, Dropout, Flatten\n",
    "from keras.layers import Conv2D, MaxPooling2D\n",
    "import keras\n",
    "import keras.backend as K\n",
    "from sklearn.metrics import f1_score\n",
    "from sklearn.metrics import precision_score\n",
    "from sklearn.metrics import recall_score\n",
    "from sklearn.metrics import confusion_matrix"
   ]
  },
  {
   "cell_type": "code",
   "execution_count": 77,
   "metadata": {},
   "outputs": [],
   "source": [
    "from keras.preprocessing.image import ImageDataGenerator\n",
    "from keras.models import Sequential\n",
    "from keras.layers import Conv2D, MaxPooling2D\n",
    "from keras.layers import Activation, Dropout, Flatten, Dense\n",
    "from keras import backend as K"
   ]
  },
  {
   "cell_type": "code",
   "execution_count": 93,
   "metadata": {},
   "outputs": [],
   "source": [
    "img_width, img_height = 150, 150\n",
    "train_data_dir = './Classification2/data/train'\n",
    "validation_data_dir = './Classification2/data/validation'\n",
    "test_dir = validation_data_dir\n",
    "nb_train_samples = 2000\n",
    "nb_validation_samples = 800\n",
    "epochs = 50\n",
    "batch_size = 16"
   ]
  },
  {
   "cell_type": "code",
   "execution_count": 94,
   "metadata": {},
   "outputs": [],
   "source": [
    "input_shape = (150, 150, 3)\n",
    "\n",
    "model = Sequential()\n",
    "\n",
    "model.add(Conv2D(32, (3, 3), input_shape=input_shape))\n",
    "model.add(Activation('relu'))\n",
    "model.add(MaxPooling2D(pool_size=(2, 2)))\n",
    "\n",
    "model.add(Conv2D(32, (3, 3)))\n",
    "model.add(Activation('relu'))\n",
    "model.add(MaxPooling2D(pool_size=(2, 2)))\n",
    "\n",
    "model.add(Conv2D(64, (3, 3)))\n",
    "model.add(Activation('relu'))\n",
    "model.add(MaxPooling2D(pool_size=(2, 2)))\n",
    "\n",
    "model.add(Flatten())\n",
    "model.add(Dense(64))\n",
    "model.add(Activation('relu'))\n",
    "model.add(Dropout(0.5))\n",
    "\n",
    "model.add(Dense(1))\n",
    "model.add(Activation('sigmoid'))\n",
    "\n",
    "model.compile(loss='binary_crossentropy',\n",
    "\n",
    "              optimizer='rmsprop',\n",
    "\n",
    "              metrics=['accuracy'])"
   ]
  },
  {
   "cell_type": "code",
   "execution_count": 95,
   "metadata": {},
   "outputs": [
    {
     "name": "stdout",
     "output_type": "stream",
     "text": [
      "Found 2000 images belonging to 2 classes.\n",
      "Found 800 images belonging to 2 classes.\n",
      "Found 800 images belonging to 2 classes.\n"
     ]
    }
   ],
   "source": [
    "train_datagen = ImageDataGenerator(rescale=1. / 255,shear_range=0.2,zoom_range=0.2,horizontal_flip=True)\n",
    "test_datagen = ImageDataGenerator(rescale=1. / 255)\n",
    "test_datagen = ImageDataGenerator(rescale=1./255)\n",
    "\n",
    "train_generator = train_datagen.flow_from_directory(\n",
    "\n",
    "    train_data_dir,\n",
    "\n",
    "    target_size=(img_width, img_height),\n",
    "\n",
    "    batch_size=batch_size,\n",
    "\n",
    "    class_mode='binary')\n",
    "\n",
    "\n",
    "\n",
    "validation_generator = test_datagen.flow_from_directory(\n",
    "\n",
    "    validation_data_dir,\n",
    "\n",
    "    target_size=(img_width, img_height),\n",
    "\n",
    "    batch_size=batch_size,\n",
    "\n",
    "    class_mode='binary')\n",
    "\n",
    "\n",
    "test_generator = test_datagen.flow_from_directory(\n",
    "        test_dir,\n",
    "        target_size=(img_width, img_height),\n",
    "        color_mode=\"rgb\",\n",
    "        shuffle = \"false\",\n",
    "        class_mode='binary',\n",
    "        batch_size=1)"
   ]
  },
  {
   "cell_type": "code",
   "execution_count": 98,
   "metadata": {},
   "outputs": [
    {
     "name": "stdout",
     "output_type": "stream",
     "text": [
      "Epoch 1/50\n",
      "125/125 [==============================] - 223s 2s/step - loss: 0.5391 - acc: 0.7365 - val_loss: 1.0305 - val_acc: 0.6412\n",
      "Epoch 2/50\n",
      "125/125 [==============================] - 118s 941ms/step - loss: 0.5265 - acc: 0.7340 - val_loss: 1.2282 - val_acc: 0.6275\n",
      "Epoch 3/50\n",
      "125/125 [==============================] - 118s 940ms/step - loss: 0.5109 - acc: 0.7350 - val_loss: 0.7878 - val_acc: 0.6475\n",
      "Epoch 4/50\n",
      "125/125 [==============================] - 127s 1s/step - loss: 0.5028 - acc: 0.7615 - val_loss: 1.8512 - val_acc: 0.5975\n",
      "Epoch 5/50\n",
      "125/125 [==============================] - 127s 1s/step - loss: 0.5111 - acc: 0.7480 - val_loss: 0.9858 - val_acc: 0.6362\n",
      "Epoch 6/50\n",
      "125/125 [==============================] - 123s 988ms/step - loss: 0.5157 - acc: 0.7495 - val_loss: 1.3878 - val_acc: 0.6475\n",
      "Epoch 7/50\n",
      "125/125 [==============================] - 123s 986ms/step - loss: 0.5231 - acc: 0.7325 - val_loss: 1.0330 - val_acc: 0.6550\n",
      "Epoch 8/50\n",
      "125/125 [==============================] - 118s 943ms/step - loss: 0.5303 - acc: 0.7320 - val_loss: 1.0808 - val_acc: 0.6700\n",
      "Epoch 9/50\n",
      "125/125 [==============================] - 117s 935ms/step - loss: 0.4992 - acc: 0.7420 - val_loss: 0.8439 - val_acc: 0.6425\n",
      "Epoch 10/50\n",
      "125/125 [==============================] - 117s 935ms/step - loss: 0.5147 - acc: 0.7435 - val_loss: 0.7723 - val_acc: 0.6587\n",
      "Epoch 11/50\n",
      "125/125 [==============================] - 117s 934ms/step - loss: 0.4990 - acc: 0.7460 - val_loss: 1.1338 - val_acc: 0.6538\n",
      "Epoch 12/50\n",
      "125/125 [==============================] - 117s 935ms/step - loss: 0.5157 - acc: 0.7450 - val_loss: 0.8872 - val_acc: 0.6587\n",
      "Epoch 13/50\n",
      "125/125 [==============================] - 117s 937ms/step - loss: 0.4960 - acc: 0.7445 - val_loss: 0.8316 - val_acc: 0.6525\n",
      "Epoch 14/50\n",
      "125/125 [==============================] - 117s 938ms/step - loss: 0.5192 - acc: 0.7440 - val_loss: 1.4626 - val_acc: 0.6275\n",
      "Epoch 15/50\n",
      "125/125 [==============================] - 117s 937ms/step - loss: 0.4997 - acc: 0.7465 - val_loss: 1.2287 - val_acc: 0.6388\n",
      "Epoch 16/50\n",
      "125/125 [==============================] - 117s 934ms/step - loss: 0.5222 - acc: 0.7385 - val_loss: 0.8060 - val_acc: 0.6412\n",
      "Epoch 17/50\n",
      "125/125 [==============================] - 117s 933ms/step - loss: 0.5333 - acc: 0.7340 - val_loss: 1.1213 - val_acc: 0.6412\n",
      "Epoch 18/50\n",
      "125/125 [==============================] - 119s 955ms/step - loss: 0.5146 - acc: 0.7470 - val_loss: 0.8132 - val_acc: 0.6725\n",
      "Epoch 19/50\n",
      "125/125 [==============================] - 140s 1s/step - loss: 0.5101 - acc: 0.7555 - val_loss: 1.0468 - val_acc: 0.6400\n",
      "Epoch 20/50\n",
      "125/125 [==============================] - 125s 1s/step - loss: 0.5115 - acc: 0.7340 - val_loss: 0.7620 - val_acc: 0.6750\n",
      "Epoch 21/50\n",
      "125/125 [==============================] - 128s 1s/step - loss: 0.5052 - acc: 0.7560 - val_loss: 1.7143 - val_acc: 0.6050\n",
      "Epoch 22/50\n",
      "125/125 [==============================] - 121s 970ms/step - loss: 0.5184 - acc: 0.7560 - val_loss: 1.0066 - val_acc: 0.6775\n",
      "Epoch 23/50\n",
      "125/125 [==============================] - 118s 942ms/step - loss: 0.5017 - acc: 0.7720 - val_loss: 1.0458 - val_acc: 0.6412\n",
      "Epoch 24/50\n",
      "125/125 [==============================] - 118s 945ms/step - loss: 0.5048 - acc: 0.7435 - val_loss: 1.5419 - val_acc: 0.6275\n",
      "Epoch 25/50\n",
      "125/125 [==============================] - 117s 938ms/step - loss: 0.4962 - acc: 0.7535 - val_loss: 1.0209 - val_acc: 0.6837\n",
      "Epoch 26/50\n",
      "125/125 [==============================] - 117s 939ms/step - loss: 0.5210 - acc: 0.7360 - val_loss: 0.9964 - val_acc: 0.6250\n",
      "Epoch 27/50\n",
      "125/125 [==============================] - 119s 953ms/step - loss: 0.5043 - acc: 0.7460 - val_loss: 1.1975 - val_acc: 0.6325\n",
      "Epoch 28/50\n",
      "125/125 [==============================] - 117s 937ms/step - loss: 0.5142 - acc: 0.7320 - val_loss: 1.0786 - val_acc: 0.6300\n",
      "Epoch 29/50\n",
      "125/125 [==============================] - 118s 940ms/step - loss: 0.5166 - acc: 0.7450 - val_loss: 1.0131 - val_acc: 0.6625\n",
      "Epoch 30/50\n",
      "125/125 [==============================] - 118s 942ms/step - loss: 0.5191 - acc: 0.7485 - val_loss: 1.0537 - val_acc: 0.6362\n",
      "Epoch 31/50\n",
      "125/125 [==============================] - 118s 945ms/step - loss: 0.4971 - acc: 0.7610 - val_loss: 1.1149 - val_acc: 0.6512\n",
      "Epoch 32/50\n",
      "125/125 [==============================] - 117s 937ms/step - loss: 0.5215 - acc: 0.7565 - val_loss: 1.6751 - val_acc: 0.6075\n",
      "Epoch 33/50\n",
      "125/125 [==============================] - 118s 942ms/step - loss: 0.5007 - acc: 0.7475 - val_loss: 0.7253 - val_acc: 0.6937\n",
      "Epoch 34/50\n",
      "125/125 [==============================] - 118s 942ms/step - loss: 0.5112 - acc: 0.7530 - val_loss: 1.1773 - val_acc: 0.6663\n",
      "Epoch 35/50\n",
      "125/125 [==============================] - 118s 941ms/step - loss: 0.5170 - acc: 0.7560 - val_loss: 1.0667 - val_acc: 0.6700\n",
      "Epoch 36/50\n",
      "125/125 [==============================] - 118s 945ms/step - loss: 0.5102 - acc: 0.7480 - val_loss: 1.0898 - val_acc: 0.6312\n",
      "Epoch 37/50\n",
      "125/125 [==============================] - 118s 945ms/step - loss: 0.5249 - acc: 0.7425 - val_loss: 1.0685 - val_acc: 0.6900\n",
      "Epoch 38/50\n",
      "125/125 [==============================] - 118s 945ms/step - loss: 0.5104 - acc: 0.7525 - val_loss: 0.9871 - val_acc: 0.6625\n",
      "Epoch 39/50\n",
      "125/125 [==============================] - 120s 960ms/step - loss: 0.5048 - acc: 0.7480 - val_loss: 0.9145 - val_acc: 0.6288\n",
      "Epoch 40/50\n",
      "125/125 [==============================] - 118s 942ms/step - loss: 0.5155 - acc: 0.7585 - val_loss: 0.7636 - val_acc: 0.6650\n",
      "Epoch 41/50\n",
      "125/125 [==============================] - 117s 939ms/step - loss: 0.5119 - acc: 0.7545 - val_loss: 1.2066 - val_acc: 0.6613\n",
      "Epoch 42/50\n",
      "125/125 [==============================] - 118s 941ms/step - loss: 0.4806 - acc: 0.7640 - val_loss: 0.8841 - val_acc: 0.6512\n",
      "Epoch 43/50\n",
      "125/125 [==============================] - 117s 935ms/step - loss: 0.5222 - acc: 0.7570 - val_loss: 1.9471 - val_acc: 0.6025\n",
      "Epoch 44/50\n",
      "125/125 [==============================] - 118s 941ms/step - loss: 0.5212 - acc: 0.7610 - val_loss: 0.8051 - val_acc: 0.7125\n",
      "Epoch 45/50\n",
      "125/125 [==============================] - 118s 941ms/step - loss: 0.5051 - acc: 0.7535 - val_loss: 1.5532 - val_acc: 0.6075\n",
      "Epoch 46/50\n",
      "125/125 [==============================] - 118s 945ms/step - loss: 0.4791 - acc: 0.7720 - val_loss: 1.3932 - val_acc: 0.6462\n",
      "Epoch 47/50\n",
      "125/125 [==============================] - 117s 939ms/step - loss: 0.5041 - acc: 0.7530 - val_loss: 1.8332 - val_acc: 0.6875\n",
      "Epoch 48/50\n",
      "125/125 [==============================] - 118s 941ms/step - loss: 0.4947 - acc: 0.7575 - val_loss: 0.9068 - val_acc: 0.6963\n",
      "Epoch 49/50\n",
      "125/125 [==============================] - 134s 1s/step - loss: 0.5273 - acc: 0.7515 - val_loss: 0.9374 - val_acc: 0.6775\n",
      "Epoch 50/50\n",
      "125/125 [==============================] - 119s 949ms/step - loss: 0.5117 - acc: 0.7540 - val_loss: 1.5255 - val_acc: 0.6250\n"
     ]
    },
    {
     "data": {
      "text/plain": [
       "<keras.callbacks.History at 0x1f9e2291d30>"
      ]
     },
     "execution_count": 98,
     "metadata": {},
     "output_type": "execute_result"
    }
   ],
   "source": [
    "model.fit_generator(\n",
    "\n",
    "    train_generator,\n",
    "\n",
    "    steps_per_epoch=nb_train_samples // batch_size,\n",
    "\n",
    "    epochs=epochs,\n",
    "\n",
    "    validation_data=validation_generator,\n",
    "    \n",
    "    verbose = 1,\n",
    "\n",
    "    validation_steps=nb_validation_samples // batch_size)\n",
    "\n",
    "\n",
    "\n"
   ]
  },
  {
   "cell_type": "code",
   "execution_count": 99,
   "metadata": {},
   "outputs": [],
   "source": [
    "filenames = test_generator.filenames\n",
    "nb_samples = len(filenames)\n",
    "scores = model.evaluate_generator(test_generator,steps = nb_samples)\n",
    "predictions = model.predict_generator(test_generator,steps = nb_samples)"
   ]
  },
  {
   "cell_type": "code",
   "execution_count": 100,
   "metadata": {},
   "outputs": [
    {
     "name": "stdout",
     "output_type": "stream",
     "text": [
      "loss: 1.52549578774\n",
      "acc: 0.625\n"
     ]
    }
   ],
   "source": [
    "print (model.metrics_names[0]  + \": \"+ str(scores[0]) + \"\\n\"+ model.metrics_names[1] + \": \" + str(scores[1]) )"
   ]
  },
  {
   "cell_type": "code",
   "execution_count": 101,
   "metadata": {},
   "outputs": [
    {
     "data": {
      "text/plain": [
       "array([[284, 116],\n",
       "       [286, 114]], dtype=int64)"
      ]
     },
     "execution_count": 101,
     "metadata": {},
     "output_type": "execute_result"
    }
   ],
   "source": [
    "from sklearn.metrics import confusion_matrix\n",
    "\n",
    "y_true = np.array([0] * 400 + [1] * 400)\n",
    "y_pred = predictions > 0.5\n",
    "\n",
    "confusion_matrix(y_true, y_pred)"
   ]
  },
  {
   "cell_type": "code",
   "execution_count": 102,
   "metadata": {},
   "outputs": [
    {
     "name": "stdout",
     "output_type": "stream",
     "text": [
      "F1 Scores:\n",
      "Melanoma: 0.585567\n",
      "Others: 0.361905\n",
      "\n"
     ]
    }
   ],
   "source": [
    "f1s = f1_score(y_true,y_pred, average=None)\n",
    "print ('F1 Scores:\\nMelanoma: %f\\nOthers: %f\\n'%(f1s[0],f1s[1]))"
   ]
  },
  {
   "cell_type": "code",
   "execution_count": 108,
   "metadata": {},
   "outputs": [
    {
     "name": "stdout",
     "output_type": "stream",
     "text": [
      "Recall Score:\n",
      "Melanoma: 0.710000\n",
      "Others: 0.285000\n",
      "\n"
     ]
    }
   ],
   "source": [
    "rs = recall_score(y_true,y_pred, average=None)\n",
    "print ('Recall Score:\\nMelanoma: %f\\nOthers: %f\\n'%(rs[0],rs[1]))"
   ]
  },
  {
   "cell_type": "code",
   "execution_count": 109,
   "metadata": {},
   "outputs": [
    {
     "name": "stdout",
     "output_type": "stream",
     "text": [
      "Precision Score:\n",
      "Melanoma: 0.498246\n",
      "Others: 0.495652\n",
      "\n"
     ]
    }
   ],
   "source": [
    "ps = precision_score(y_true,y_pred, average=None)\n",
    "print ('Precision Score:\\nMelanoma: %f\\nOthers: %f\\n'%(ps[0],ps[1]))"
   ]
  },
  {
   "cell_type": "code",
   "execution_count": 104,
   "metadata": {},
   "outputs": [],
   "source": [
    "model.save_weights('./Classification2/100_epochs_weights.hdf5')"
   ]
  },
  {
   "cell_type": "code",
   "execution_count": 110,
   "metadata": {},
   "outputs": [],
   "source": [
    "model.load_weights('./Classification2/100_epochs_weights.hdf5')"
   ]
  },
  {
   "cell_type": "code",
   "execution_count": null,
   "metadata": {},
   "outputs": [],
   "source": []
  }
 ],
 "metadata": {
  "kernelspec": {
   "display_name": "Python 3",
   "language": "python",
   "name": "python3"
  },
  "language_info": {
   "codemirror_mode": {
    "name": "ipython",
    "version": 3
   },
   "file_extension": ".py",
   "mimetype": "text/x-python",
   "name": "python",
   "nbconvert_exporter": "python",
   "pygments_lexer": "ipython3",
   "version": "3.6.4"
  }
 },
 "nbformat": 4,
 "nbformat_minor": 2
}
